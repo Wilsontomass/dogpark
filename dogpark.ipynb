{
 "cells": [
  {
   "cell_type": "code",
   "execution_count": 1,
   "id": "3905d3805723d93f",
   "metadata": {
    "ExecuteTime": {
     "end_time": "2023-09-17T10:26:42.133619500Z",
     "start_time": "2023-09-17T10:26:42.109448400Z"
    },
    "collapsed": false,
    "jupyter": {
     "outputs_hidden": false
    }
   },
   "outputs": [],
   "source": [
    "%load_ext autoreload\n",
    "%autoreload 2"
   ]
  },
  {
   "cell_type": "code",
   "execution_count": 2,
   "id": "c9aa95e2-e822-4711-bb17-7e1d1cd10a1f",
   "metadata": {
    "ExecuteTime": {
     "end_time": "2023-09-17T10:26:42.833815700Z",
     "start_time": "2023-09-17T10:26:42.804064900Z"
    }
   },
   "outputs": [],
   "source": [
    "import sys\n",
    "sys.path.append(r\"C:\\Users\\wilso\\Documents\\GitHub\\dogpark\\src\")"
   ]
  },
  {
   "cell_type": "code",
   "execution_count": 3,
   "id": "initial_id",
   "metadata": {
    "ExecuteTime": {
     "end_time": "2023-09-17T10:32:35.980656200Z",
     "start_time": "2023-09-17T10:32:32.228761900Z"
    },
    "collapsed": false,
    "jupyter": {
     "outputs_hidden": false
    }
   },
   "outputs": [
    {
     "name": "stdin",
     "output_type": "stream",
     "text": [
      "Is this a physical game? (y/n)  y\n",
      "How many players?  3\n"
     ]
    }
   ],
   "source": [
    "from dogpark.game.game import Dogpark\n",
    "\n",
    "dogpark = Dogpark(autorun=False)"
   ]
  },
  {
   "cell_type": "code",
   "execution_count": 19,
   "id": "506a0574-0157-4dd4-a029-ef8b66be75a8",
   "metadata": {},
   "outputs": [],
   "source": [
    "dogpark.reload_dogs()"
   ]
  },
  {
   "cell_type": "code",
   "execution_count": 4,
   "id": "2b2e1a45-82c9-4ab5-919f-84dfbc169250",
   "metadata": {
    "ExecuteTime": {
     "end_time": "2023-09-17T10:32:40.082736800Z",
     "start_time": "2023-09-17T10:32:40.045951Z"
    }
   },
   "outputs": [
    {
     "data": {
      "text/plain": [
       "{'Canaan_Dog': {'b': 'U', 'a': 'search_and_rescue', 'c': ['BALL'], 'w': 0},\n",
       " 'Fox_Terrier': {'b': 'TE', 'a': 'sociable', 'c': ['BALL', 'BALL'], 'w': 0},\n",
       " 'Large_Munsterlander': {'b': 'G',\n",
       "  'a': 'playmate',\n",
       "  'c': ['BALL', 'STICK'],\n",
       "  'w': 0},\n",
       " 'Gordon_Setter': {'b': 'G', 'a': 'sociable', 'c': ['STICK', 'STICK'], 'w': 0},\n",
       " 'Tibetan_Terrier': {'b': 'TE',\n",
       "  'a': 'toy_collector',\n",
       "  'c': ['TOY', 'TOY'],\n",
       "  'w': 0},\n",
       " 'Bulldog': {'b': 'U', 'a': 'social_butterfly', 'c': ['STICK', 'TOY'], 'w': 0},\n",
       " 'Retriever_Labrador': {'b': 'G',\n",
       "  'a': 'treat_lover',\n",
       "  'c': ['TREAT', 'TREAT'],\n",
       "  'w': 0},\n",
       " 'Italian_Greyhound': {'b': 'TO',\n",
       "  'a': 'social_butterfly',\n",
       "  'c': ['STICK', 'TREAT'],\n",
       "  'w': 0}}"
      ]
     },
     "execution_count": 4,
     "metadata": {},
     "output_type": "execute_result"
    }
   ],
   "source": [
    "dogpark.dogs_deck"
   ]
  },
  {
   "cell_type": "code",
   "execution_count": 4,
   "id": "9a114fdaad157394",
   "metadata": {
    "ExecuteTime": {
     "end_time": "2023-09-03T14:26:20.673150200Z",
     "start_time": "2023-09-03T14:23:54.626950800Z"
    },
    "collapsed": false,
    "jupyter": {
     "outputs_hidden": false
    }
   },
   "outputs": [
    {
     "name": "stdout",
     "output_type": "stream",
     "text": [
      "Please enter Player colours in turn order, starting with the lead player:\n"
     ]
    },
    {
     "name": "stdin",
     "output_type": "stream",
     "text": [
      "Player 1 colour:  red\n",
      "Player 2 colour:  yellow\n",
      "Player 3 colour:  green\n",
      "Are you playing with Forecast cards? (y/n)  y\n",
      "Forecast 1:  2\n",
      "Forecast 2:  3\n",
      "Forecast 3:  4\n",
      "Forecast 4:  5\n"
     ]
    },
    {
     "name": "stdout",
     "output_type": "stream",
     "text": [
      "please enter the list of breed experts in order, high to low, seperated by commas:\n"
     ]
    },
    {
     "name": "stdin",
     "output_type": "stream",
     "text": [
      "Breed Experts:  W, H, TE, P, TO, G, U\n"
     ]
    },
    {
     "name": "stdout",
     "output_type": "stream",
     "text": [
      "Please enter the names of the dogs drawn, seperated by commas:\n"
     ]
    },
    {
     "name": "stdin",
     "output_type": "stream",
     "text": [
      "Dogs:  Canaan_Dog, Fox_Terrier, Large_Munsterlander\n"
     ]
    },
    {
     "name": "stdout",
     "output_type": "stream",
     "text": [
      "Please enter the dictionary representing the park modifiers drawn:\n"
     ]
    },
    {
     "name": "stdin",
     "output_type": "stream",
     "text": [
      "Park:  {\"4\": [\"SKIP\"],\"6\": [\"LOOK\"],\"8\": [\"TOY\"]}\n"
     ]
    },
    {
     "name": "stdout",
     "output_type": "stream",
     "text": [
      "Player red, which objective number did you choose?\n"
     ]
    },
    {
     "name": "stdin",
     "output_type": "stream",
     "text": [
      " 2\n"
     ]
    },
    {
     "name": "stdout",
     "output_type": "stream",
     "text": [
      "Player yellow, which objective number did you choose?\n"
     ]
    },
    {
     "name": "stdin",
     "output_type": "stream",
     "text": [
      " 3\n"
     ]
    },
    {
     "name": "stdout",
     "output_type": "stream",
     "text": [
      "Player green, which objective number did you choose?\n"
     ]
    },
    {
     "name": "stdin",
     "output_type": "stream",
     "text": [
      " 4\n"
     ]
    }
   ],
   "source": [
    "dogpark.setup_physical()"
   ]
  },
  {
   "cell_type": "code",
   "execution_count": 6,
   "id": "b3a6e183f6d618c5",
   "metadata": {
    "ExecuteTime": {
     "end_time": "2023-09-03T14:29:51.635856700Z",
     "start_time": "2023-09-03T14:29:12.303736800Z"
    },
    "collapsed": false,
    "jupyter": {
     "outputs_hidden": false
    }
   },
   "outputs": [
    {
     "name": "stdout",
     "output_type": "stream",
     "text": [
      "Please enter the dictionary representing the park modifiers drawn:\n"
     ]
    }
   ],
   "source": [
    "dogpark.draw_park()"
   ]
  },
  {
   "cell_type": "code",
   "execution_count": 5,
   "id": "7c30db54c7fede32",
   "metadata": {
    "ExecuteTime": {
     "end_time": "2023-09-03T14:29:56.265602700Z",
     "start_time": "2023-09-03T14:29:56.207855500Z"
    },
    "collapsed": false,
    "jupyter": {
     "outputs_hidden": false
    }
   },
   "outputs": [
    {
     "data": {
      "text/plain": [
       "[['STICK'], ['BALL'], ['TOY'], ['TREAT'], ['SKIP'], ['BALL'], ['SWAP', 'LOOK'], ['TOY'], ['TREAT', 'TOY'], ['STICK', 'STICK'], ['STICK'], ['REP'], ['LOOK'], ['REP'], ['BALL', 'BALL']]"
      ]
     },
     "execution_count": 5,
     "metadata": {},
     "output_type": "execute_result"
    }
   ],
   "source": [
    "dogpark.park"
   ]
  },
  {
   "cell_type": "code",
   "execution_count": 7,
   "id": "904835e88986c0e9",
   "metadata": {
    "ExecuteTime": {
     "end_time": "2023-09-03T14:31:09.680027400Z",
     "start_time": "2023-09-03T14:30:59.064800300Z"
    },
    "collapsed": false,
    "jupyter": {
     "outputs_hidden": false
    }
   },
   "outputs": [
    {
     "name": "stdout",
     "output_type": "stream",
     "text": [
      "Recruitment\n",
      "Bidding Round 1\n",
      "Player yellow, which dog did you bid on?\n"
     ]
    },
    {
     "name": "stdin",
     "output_type": "stream",
     "text": [
      " Canaan_Dog\n",
      "How much did you bid?  1\n"
     ]
    },
    {
     "name": "stdout",
     "output_type": "stream",
     "text": [
      "Player red, which dog did you bid on?\n"
     ]
    },
    {
     "name": "stdin",
     "output_type": "stream",
     "text": [
      " Fox_Terrier\n",
      "How much did you bid?  1\n"
     ]
    },
    {
     "name": "stdout",
     "output_type": "stream",
     "text": [
      "Player green, which dog did you bid on?\n"
     ]
    },
    {
     "name": "stdin",
     "output_type": "stream",
     "text": [
      " Large_Munsterlander\n",
      "How much did you bid?  1\n"
     ]
    },
    {
     "name": "stdout",
     "output_type": "stream",
     "text": [
      "Please enter the names of the dogs drawn, seperated by commas:\n"
     ]
    },
    {
     "name": "stdin",
     "output_type": "stream",
     "text": [
      "Dogs:  Canaan_Dog,Fox_Terrier,Large_Munsterlander\n"
     ]
    },
    {
     "ename": "KeyError",
     "evalue": "'Canaan_Dog'",
     "output_type": "error",
     "traceback": [
      "\u001b[1;31m---------------------------------------------------------------------------\u001b[0m",
      "\u001b[1;31mKeyError\u001b[0m                                  Traceback (most recent call last)",
      "Cell \u001b[1;32mIn[7], line 1\u001b[0m\n\u001b[1;32m----> 1\u001b[0m \u001b[43mdogpark\u001b[49m\u001b[38;5;241;43m.\u001b[39;49m\u001b[43mplay_recruitment\u001b[49m\u001b[43m(\u001b[49m\u001b[43m)\u001b[49m\n",
      "File \u001b[1;32m~\\Documents\\GitHub\\dogpark\\src\\dogpark\\game\\game.py:160\u001b[0m, in \u001b[0;36mDogpark.play_recruitment\u001b[1;34m(self)\u001b[0m\n\u001b[0;32m    157\u001b[0m     player\u001b[38;5;241m.\u001b[39mkennel[dog] \u001b[38;5;241m=\u001b[39m \u001b[38;5;28mself\u001b[39m\u001b[38;5;241m.\u001b[39mdogs\u001b[38;5;241m.\u001b[39mpop(dog)\n\u001b[0;32m    159\u001b[0m \u001b[38;5;66;03m# reset dogs\u001b[39;00m\n\u001b[1;32m--> 160\u001b[0m \u001b[38;5;28;43mself\u001b[39;49m\u001b[38;5;241;43m.\u001b[39;49m\u001b[43mdraw_dogs\u001b[49m\u001b[43m(\u001b[49m\u001b[43m)\u001b[49m\n",
      "File \u001b[1;32m~\\Documents\\GitHub\\dogpark\\src\\dogpark\\game\\game.py:84\u001b[0m, in \u001b[0;36mDogpark.draw_dogs\u001b[1;34m(self)\u001b[0m\n\u001b[0;32m     82\u001b[0m     \u001b[38;5;28mprint\u001b[39m(\u001b[38;5;124m\"\u001b[39m\u001b[38;5;124mPlease enter the names of the dogs drawn, seperated by commas:\u001b[39m\u001b[38;5;124m\"\u001b[39m)\n\u001b[0;32m     83\u001b[0m     dog_names \u001b[38;5;241m=\u001b[39m \u001b[38;5;28minput\u001b[39m(\u001b[38;5;124m\"\u001b[39m\u001b[38;5;124mDogs: \u001b[39m\u001b[38;5;124m\"\u001b[39m)\u001b[38;5;241m.\u001b[39mreplace(\u001b[38;5;124m\"\u001b[39m\u001b[38;5;124m \u001b[39m\u001b[38;5;124m\"\u001b[39m, \u001b[38;5;124m\"\u001b[39m\u001b[38;5;124m\"\u001b[39m)\u001b[38;5;241m.\u001b[39msplit(\u001b[38;5;124m\"\u001b[39m\u001b[38;5;124m,\u001b[39m\u001b[38;5;124m\"\u001b[39m)\n\u001b[1;32m---> 84\u001b[0m     \u001b[38;5;28mself\u001b[39m\u001b[38;5;241m.\u001b[39mdogs \u001b[38;5;241m=\u001b[39m {name: DOGS\u001b[38;5;241m.\u001b[39mpop(name) \u001b[38;5;28;01mfor\u001b[39;00m name \u001b[38;5;129;01min\u001b[39;00m dog_names}\n\u001b[0;32m     85\u001b[0m \u001b[38;5;28;01melse\u001b[39;00m:\n\u001b[0;32m     86\u001b[0m     \u001b[38;5;28mself\u001b[39m\u001b[38;5;241m.\u001b[39mdogs \u001b[38;5;241m=\u001b[39m {k: \u001b[38;5;28mself\u001b[39m\u001b[38;5;241m.\u001b[39mdogs_deck\u001b[38;5;241m.\u001b[39mpop(k) \u001b[38;5;28;01mfor\u001b[39;00m k \u001b[38;5;129;01min\u001b[39;00m random\u001b[38;5;241m.\u001b[39msample(\u001b[38;5;28mlist\u001b[39m(\u001b[38;5;28mself\u001b[39m\u001b[38;5;241m.\u001b[39mdogs_deck), k\u001b[38;5;241m=\u001b[39m\u001b[38;5;28mself\u001b[39m\u001b[38;5;241m.\u001b[39mnum_dogs)}\n",
      "File \u001b[1;32m~\\Documents\\GitHub\\dogpark\\src\\dogpark\\game\\game.py:84\u001b[0m, in \u001b[0;36m<dictcomp>\u001b[1;34m(.0)\u001b[0m\n\u001b[0;32m     82\u001b[0m     \u001b[38;5;28mprint\u001b[39m(\u001b[38;5;124m\"\u001b[39m\u001b[38;5;124mPlease enter the names of the dogs drawn, seperated by commas:\u001b[39m\u001b[38;5;124m\"\u001b[39m)\n\u001b[0;32m     83\u001b[0m     dog_names \u001b[38;5;241m=\u001b[39m \u001b[38;5;28minput\u001b[39m(\u001b[38;5;124m\"\u001b[39m\u001b[38;5;124mDogs: \u001b[39m\u001b[38;5;124m\"\u001b[39m)\u001b[38;5;241m.\u001b[39mreplace(\u001b[38;5;124m\"\u001b[39m\u001b[38;5;124m \u001b[39m\u001b[38;5;124m\"\u001b[39m, \u001b[38;5;124m\"\u001b[39m\u001b[38;5;124m\"\u001b[39m)\u001b[38;5;241m.\u001b[39msplit(\u001b[38;5;124m\"\u001b[39m\u001b[38;5;124m,\u001b[39m\u001b[38;5;124m\"\u001b[39m)\n\u001b[1;32m---> 84\u001b[0m     \u001b[38;5;28mself\u001b[39m\u001b[38;5;241m.\u001b[39mdogs \u001b[38;5;241m=\u001b[39m {name: \u001b[43mDOGS\u001b[49m\u001b[38;5;241;43m.\u001b[39;49m\u001b[43mpop\u001b[49m\u001b[43m(\u001b[49m\u001b[43mname\u001b[49m\u001b[43m)\u001b[49m \u001b[38;5;28;01mfor\u001b[39;00m name \u001b[38;5;129;01min\u001b[39;00m dog_names}\n\u001b[0;32m     85\u001b[0m \u001b[38;5;28;01melse\u001b[39;00m:\n\u001b[0;32m     86\u001b[0m     \u001b[38;5;28mself\u001b[39m\u001b[38;5;241m.\u001b[39mdogs \u001b[38;5;241m=\u001b[39m {k: \u001b[38;5;28mself\u001b[39m\u001b[38;5;241m.\u001b[39mdogs_deck\u001b[38;5;241m.\u001b[39mpop(k) \u001b[38;5;28;01mfor\u001b[39;00m k \u001b[38;5;129;01min\u001b[39;00m random\u001b[38;5;241m.\u001b[39msample(\u001b[38;5;28mlist\u001b[39m(\u001b[38;5;28mself\u001b[39m\u001b[38;5;241m.\u001b[39mdogs_deck), k\u001b[38;5;241m=\u001b[39m\u001b[38;5;28mself\u001b[39m\u001b[38;5;241m.\u001b[39mnum_dogs)}\n",
      "\u001b[1;31mKeyError\u001b[0m: 'Canaan_Dog'"
     ]
    }
   ],
   "source": [
    "dogpark.play_recruitment()"
   ]
  },
  {
   "cell_type": "code",
   "execution_count": 23,
   "id": "8706c03ab500ff6f",
   "metadata": {
    "collapsed": false,
    "jupyter": {
     "outputs_hidden": false
    }
   },
   "outputs": [
    {
     "name": "stdout",
     "output_type": "stream",
     "text": [
      "Selection\n",
      "Player yellow, which dogs did you select, seperated by commas?\n"
     ]
    },
    {
     "name": "stdin",
     "output_type": "stream",
     "text": [
      " Canaan_Dog\n"
     ]
    },
    {
     "name": "stdout",
     "output_type": "stream",
     "text": [
      "What did you pay?\n"
     ]
    },
    {
     "name": "stdin",
     "output_type": "stream",
     "text": [
      " BALL\n"
     ]
    },
    {
     "name": "stdout",
     "output_type": "stream",
     "text": [
      "Player red, which dogs did you select, seperated by commas?\n"
     ]
    },
    {
     "name": "stdin",
     "output_type": "stream",
     "text": [
      " Fox_Terrier\n"
     ]
    },
    {
     "name": "stdout",
     "output_type": "stream",
     "text": [
      "What did you pay?\n"
     ]
    },
    {
     "name": "stdin",
     "output_type": "stream",
     "text": [
      " BALL,BALL\n"
     ]
    },
    {
     "name": "stdout",
     "output_type": "stream",
     "text": [
      "Player green, which dogs did you select, seperated by commas?\n"
     ]
    },
    {
     "name": "stdin",
     "output_type": "stream",
     "text": [
      " Large_Munsterlander\n"
     ]
    },
    {
     "name": "stdout",
     "output_type": "stream",
     "text": [
      "What did you pay?\n"
     ]
    },
    {
     "name": "stdin",
     "output_type": "stream",
     "text": [
      " BALL,STICK\n"
     ]
    }
   ],
   "source": [
    "dogpark.play_selection()"
   ]
  },
  {
   "cell_type": "code",
   "execution_count": 27,
   "id": "4c507cbd-42d6-4e6b-81d2-09f6c7fab90e",
   "metadata": {},
   "outputs": [
    {
     "data": {
      "text/plain": [
       "[yellow - 4 REP - {} - {'STICK': 2, 'BALL': 1, 'TOY': 1, 'TREAT': 1} - 1,\n",
       " red - 4 REP - {} - {'STICK': 2, 'BALL': 0, 'TOY': 1, 'TREAT': 1} - 2,\n",
       " green - 4 REP - {} - {'STICK': 1, 'BALL': 1, 'TOY': 1, 'TREAT': 1} - 3]"
      ]
     },
     "execution_count": 27,
     "metadata": {},
     "output_type": "execute_result"
    }
   ],
   "source": [
    "dogpark.players"
   ]
  },
  {
   "cell_type": "code",
   "execution_count": 26,
   "id": "dbacca44-0340-4e2b-a63e-2aba8d4e95f2",
   "metadata": {},
   "outputs": [
    {
     "data": {
      "text/plain": [
       "[{'Canaan_Dog': {'b': 'U', 'a': 'search_and_rescue', 'c': ['BALL']}},\n",
       " {'Fox_Terrier': {'b': 'TE', 'a': 'sociable', 'c': 'BALL, BALL'}},\n",
       " {'Large_Munsterlander': {'b': 'G', 'a': 'playmate', 'c': ['BALL', 'STICK']}}]"
      ]
     },
     "execution_count": 26,
     "metadata": {},
     "output_type": "execute_result"
    }
   ],
   "source": [
    "[p.lead for p in dogpark.players]"
   ]
  },
  {
   "cell_type": "code",
   "execution_count": null,
   "id": "7611efd5-141d-4fab-9951-9d95f3a86c75",
   "metadata": {},
   "outputs": [],
   "source": []
  }
 ],
 "metadata": {
  "kernelspec": {
   "display_name": "Python 3 (ipykernel)",
   "language": "python",
   "name": "python3"
  },
  "language_info": {
   "codemirror_mode": {
    "name": "ipython",
    "version": 3
   },
   "file_extension": ".py",
   "mimetype": "text/x-python",
   "name": "python",
   "nbconvert_exporter": "python",
   "pygments_lexer": "ipython3",
   "version": "3.9.6"
  }
 },
 "nbformat": 4,
 "nbformat_minor": 5
}
